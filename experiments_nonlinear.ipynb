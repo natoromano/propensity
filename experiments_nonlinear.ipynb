{
 "cells": [
  {
   "cell_type": "markdown",
   "metadata": {
    "collapsed": true
   },
   "source": [
    "# Learn representation\n",
    "\n",
    "Trains a simple fully-connected neural network on electronic \n",
    "health records using treatment assignment as target, and\n",
    "extracts activations from the last layer. This notebook also does some hyperparameter tuning on the\n",
    "network."
   ]
  },
  {
   "cell_type": "code",
   "execution_count": 1,
   "metadata": {
    "collapsed": false
   },
   "outputs": [],
   "source": [
    "%matplotlib inline\n",
    "import tensorflow as tf\n",
    "import numpy as np\n",
    "import matplotlib.pyplot as plt\n",
    "\n",
    "from utils.data import load_data\n",
    "from utils.nn import (\n",
    "    add_fully_connected, \n",
    "    precision_recall,\n",
    "    add_criteria,\n",
    "    extract_activations\n",
    ")"
   ]
  },
  {
   "cell_type": "code",
   "execution_count": 2,
   "metadata": {
    "collapsed": false
   },
   "outputs": [],
   "source": [
    "# Load data\n",
    "datasets = load_data()\n",
    "dim = datasets.dimension"
   ]
  },
  {
   "cell_type": "code",
   "execution_count": 3,
   "metadata": {
    "collapsed": false
   },
   "outputs": [],
   "source": [
    "# Instantiate session and create base variables\n",
    "sess = tf.InteractiveSession()\n",
    "x = tf.placeholder(tf.float32, shape=[None, dim])\n",
    "y_ = tf.placeholder(tf.float32, shape=[None, 2])"
   ]
  },
  {
   "cell_type": "code",
   "execution_count": 10,
   "metadata": {
    "collapsed": false
   },
   "outputs": [],
   "source": [
    "# Hidden layers dimensions\n",
    "hidden1 = 500\n",
    "hidden2 = 50\n",
    "hidden3 = 5\n",
    "\n",
    "# Actual network creation\n",
    "h1 = add_fully_connected(x, dim, hidden1, relu=False)\n",
    "h2 = add_fully_connected(h1, hidden1, hidden2, tanh=True)\n",
    "h3 = add_fully_connected(h1, hidden1, hidden3, tanh=False)\n",
    "y_scores = add_fully_connected(h3, hidden3, 2, tanh=False)\n",
    "\n",
    "cross_entropy, train_step, correct_prediction, accuracy = add_criteria(y_, y_scores, 7.2e-7)"
   ]
  },
  {
   "cell_type": "code",
   "execution_count": 11,
   "metadata": {
    "collapsed": false
   },
   "outputs": [
    {
     "name": "stdout",
     "output_type": "stream",
     "text": [
      "Step 0: 0.477425\n",
      "Step 1000: 0.537219\n",
      "Step 2000: 0.574606\n",
      "Step 3000: 0.5976\n",
      "Step 4000: 0.61044\n",
      "Step 5000: 0.619503\n",
      "Step 6000: 0.627853\n",
      "Step 7000: 0.633938\n",
      "Step 8000: 0.639728\n",
      "Step 9000: 0.645393\n",
      "Step 10000: 0.650596\n",
      "Step 11000: 0.656093\n",
      "Step 12000: 0.661841\n",
      "Step 13000: 0.66717\n",
      "Step 14000: 0.671954\n",
      "Step 15000: 0.676989\n",
      "Step 16000: 0.683283\n",
      "Step 17000: 0.68836\n",
      "Step 18000: 0.693941\n",
      "Step 19000: 0.699941\n",
      "Step 20000: 0.705438\n",
      "Step 21000: 0.710725\n",
      "Step 22000: 0.71597\n",
      "Step 23000: 0.72067\n",
      "Step 24000: 0.724572\n",
      "Step 25000: 0.729607\n",
      "Step 26000: 0.734307\n",
      "Step 27000: 0.739762\n",
      "Step 28000: 0.743706\n",
      "Step 29000: 0.748154\n",
      "Step 30000: 0.753483\n",
      "Step 31000: 0.757427\n",
      "Step 32000: 0.761707\n",
      "Step 33000: 0.765274\n",
      "Step 34000: 0.770015\n",
      "Step 35000: 0.774924\n",
      "Step 36000: 0.779162\n",
      "Step 37000: 0.781848\n",
      "Step 38000: 0.785708\n",
      "Step 39000: 0.789191\n",
      "Step 40000: 0.792254\n",
      "Step 41000: 0.795569\n",
      "Step 42000: 0.798674\n",
      "Step 43000: 0.801695\n",
      "Step 44000: 0.804758\n",
      "Step 45000: 0.80757\n",
      "Step 46000: 0.809877\n",
      "Step 47000: 0.811178\n",
      "Step 48000: 0.813108\n",
      "Step 49000: 0.813906\n",
      "Step 50000: 0.81571\n",
      "Step 51000: 0.817892\n",
      "Step 52000: 0.81936\n",
      "Step 53000: 0.821459\n",
      "Step 54000: 0.822717\n",
      "Step 55000: 0.824396\n",
      "Step 56000: 0.825738\n",
      "Step 57000: 0.826829\n",
      "Step 58000: 0.82792\n",
      "Step 59000: 0.829893\n",
      "Step 60000: 0.831109\n",
      "Step 61000: 0.831949\n",
      "Step 62000: 0.832704\n",
      "Step 63000: 0.833543\n",
      "Step 64000: 0.833711\n",
      "Step 65000: 0.834089\n",
      "Step 66000: 0.834466\n",
      "Step 67000: 0.835263\n",
      "Step 68000: 0.835935\n",
      "Step 69000: 0.83648\n",
      "Step 70000: 0.837026\n",
      "Step 71000: 0.837529\n",
      "Step 72000: 0.838285\n",
      "Step 73000: 0.838998\n",
      "Step 74000: 0.839669\n",
      "Step 75000: 0.839795\n",
      "Step 76000: 0.839963\n",
      "Step 77000: 0.840383\n",
      "Step 78000: 0.840634\n",
      "Step 79000: 0.840928\n",
      "Step 80000: 0.841306\n",
      "Step 81000: 0.841264\n",
      "Step 82000: 0.841432\n",
      "Step 83000: 0.841683\n",
      "Step 84000: 0.841977\n",
      "Step 85000: 0.842355\n",
      "Step 86000: 0.842607\n",
      "Step 87000: 0.842732\n",
      "Step 88000: 0.842816\n",
      "Step 89000: 0.842649\n",
      "Step 90000: 0.842523\n",
      "Step 91000: 0.842439\n",
      "Step 92000: 0.842691\n",
      "Step 93000: 0.842691\n",
      "Step 94000: 0.8429\n",
      "Step 95000: 0.8429\n",
      "Step 96000: 0.842942\n",
      "Step 97000: 0.8429\n",
      "Step 98000: 0.843152\n",
      "Step 99000: 0.84332\n",
      "Validation accuracy 0.843446\n"
     ]
    },
    {
     "data": {
      "text/plain": [
       "<matplotlib.text.Text at 0x7f0e1051ffd0>"
      ]
     },
     "execution_count": 11,
     "metadata": {},
     "output_type": "execute_result"
    },
    {
     "data": {
      "image/png": "[encoded data removed]",
      "text/plain": [
       "<matplotlib.figure.Figure at 0x7f0e5057e510>"
      ]
     },
     "metadata": {},
     "output_type": "display_data"
    },
    {
     "data": {
      "image/png": "[encoded data removed]",
      "text/plain": [
       "<matplotlib.figure.Figure at 0x7f0e303dae90>"
      ]
     },
     "metadata": {},
     "output_type": "display_data"
    }
   ],
   "source": [
    "# Keep history to plot accuracies\n",
    "train_acc = []\n",
    "val_acc = []\n",
    "train_losses = []\n",
    "val_losses = []\n",
    "\n",
    "# Actually train data\n",
    "sess.run(tf.initialize_all_variables())\n",
    "\n",
    "for i in range(100000):\n",
    "    batch = datasets.train.next_batch(512)\n",
    "    if i % 1000 == 0:\n",
    "        train_accuracy = accuracy.eval(\n",
    "            feed_dict={x: batch[0], y_: batch[1]}\n",
    "        )\n",
    "        val_accuracy = accuracy.eval(\n",
    "            feed_dict={x: datasets.val1._patients, \n",
    "                       y_: datasets.val1._labels}\n",
    "        )\n",
    "        train_loss = cross_entropy.eval(\n",
    "            feed_dict={x: batch[0], y_: batch[1]}            \n",
    "        )\n",
    "        val_loss = cross_entropy.eval(\n",
    "            feed_dict={x: datasets.val1._patients, \n",
    "                       y_: datasets.val1._labels}            \n",
    "        )\n",
    "        train_acc.append(train_accuracy)\n",
    "        val_acc.append(val_accuracy)\n",
    "        train_losses.append(train_loss)\n",
    "        val_losses.append(val_loss)\n",
    "        print \"Step %d:\" % i, val_accuracy\n",
    "    train_step.run(feed_dict={x: batch[0], y_: batch[1]})\n",
    "\n",
    "print(\"Validation accuracy %g\" % accuracy.eval(\n",
    "    feed_dict={x: datasets.val1._patients, y_: datasets.val1._labels}\n",
    "))\n",
    "\n",
    "# Plot learning curves\n",
    "plt.figure(1)\n",
    "plt.plot(train_acc)\n",
    "plt.plot(val_acc)\n",
    "plt.xlabel(\"Epoch\")\n",
    "plt.ylabel(\"Accuracy\")\n",
    "\n",
    "plt.figure(2)\n",
    "plt.plot(train_losses)\n",
    "plt.plot(val_losses)\n",
    "plt.xlabel(\"Epoch\")\n",
    "plt.ylabel(\"Loss\")\n",
    "\n",
    "# print \"Precision, Recall:\", precision_recall(x, y_, y_scores, datasets.val1)"
   ]
  },
  {
   "cell_type": "code",
   "execution_count": null,
   "metadata": {
    "collapsed": false
   },
   "outputs": [],
   "source": [
    "# Extract activations\n",
    "extract_activations(x, y_, y_scores, datasets.val2, \"val2\")\n",
    "extract_activations(x, y_, y_scores, datasets.test, \"test\")"
   ]
  },
  {
   "cell_type": "code",
   "execution_count": null,
   "metadata": {
    "collapsed": true
   },
   "outputs": [],
   "source": []
  }
 ],
 "metadata": {
  "kernelspec": {
   "display_name": "Python 2",
   "language": "python",
   "name": "python2"
  },
  "language_info": {
   "codemirror_mode": {
    "name": "ipython",
    "version": 2
   },
   "file_extension": ".py",
   "mimetype": "text/x-python",
   "name": "python",
   "nbconvert_exporter": "python",
   "pygments_lexer": "ipython2",
   "version": "2.7.12"
  }
 },
 "nbformat": 4,
 "nbformat_minor": 0
}

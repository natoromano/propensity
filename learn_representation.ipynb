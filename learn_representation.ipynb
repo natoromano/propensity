{
 "cells": [
  {
   "cell_type": "markdown",
   "metadata": {
    "collapsed": true
   },
   "source": [
    "Trains a simple fully-connected neural network on electronic \n",
    "health records using treatment assignment as target, and\n",
    "extracts activations from the last layer.\n",
    "\n",
    "This notebook also does some hyperparameter tuning on the\n",
    "network."
   ]
  },
  {
   "cell_type": "code",
   "execution_count": 1,
   "metadata": {
    "collapsed": true
   },
   "outputs": [],
   "source": [
    "import tensorflow as tf\n",
    "import numpy as np\n",
    "\n",
    "from utils.data import load_data\n",
    "from utils.nn import add_fully_connected"
   ]
  },
  {
   "cell_type": "code",
   "execution_count": 2,
   "metadata": {
    "collapsed": false
   },
   "outputs": [],
   "source": [
    "# Load data\n",
    "datasets = load_data()\n",
    "dim = datasets.dimension"
   ]
  },
  {
   "cell_type": "code",
   "execution_count": 4,
   "metadata": {
    "collapsed": false
   },
   "outputs": [],
   "source": [
    "# Instantiate session and create base variables\n",
    "sess = tf.InteractiveSession()\n",
    "x = tf.placeholder(tf.float32, shape=[None, dim])\n",
    "y_ = tf.placeholder(tf.float32, shape=[None, 2])"
   ]
  },
  {
   "cell_type": "code",
   "execution_count": 5,
   "metadata": {
    "collapsed": true
   },
   "outputs": [],
   "source": [
    "# Hidden layers dimensions\n",
    "hidden1 = 100\n",
    "hidden2 = 100"
   ]
  },
  {
   "cell_type": "code",
   "execution_count": 6,
   "metadata": {
    "collapsed": true
   },
   "outputs": [],
   "source": [
    "# Actual network creation\n",
    "h1 = add_fully_connected(x, dim, hidden1)\n",
    "h2 = add_fully_connected(h1, hidden1, hidden2)\n",
    "y_scores = add_fully_connected(h2, hidden2, 1)"
   ]
  },
  {
   "cell_type": "code",
   "execution_count": 7,
   "metadata": {
    "collapsed": false
   },
   "outputs": [],
   "source": [
    "# Define softmax and accuracy\n",
    "cross_entropy = tf.reduce_mean(\n",
    "    - tf.reduce_sum(y_ * tf.log(y_scores), reduction_indices=[1])\n",
    ")\n",
    "train_step = tf.train.AdamOptimizer(1e-4).minimize(cross_entropy)\n",
    "\n",
    "correct_prediction = tf.equal(tf.argmax(y_scores, 1), tf.argmax(y_, 1))\n",
    "accuracy = tf.reduce_mean(tf.cast(correct_prediction, tf.float32))"
   ]
  },
  {
   "cell_type": "code",
   "execution_count": 9,
   "metadata": {
    "collapsed": false
   },
   "outputs": [
    {
     "name": "stdout",
     "output_type": "stream",
     "text": [
      "Step 0, training accuracy 0.7\n",
      "Step 1000, training accuracy 0.74\n",
      "Step 2000, training accuracy 0.68\n",
      "Step 3000, training accuracy 0.66\n",
      "Step 4000, training accuracy 0.92\n",
      "Step 5000, training accuracy 0.74\n",
      "Step 6000, training accuracy 0.78\n",
      "Step 7000, training accuracy 0.8\n",
      "Step 8000, training accuracy 0.82\n",
      "Step 9000, training accuracy 0.78\n",
      "Final test accuracy 0.76691\n"
     ]
    }
   ],
   "source": [
    "# Actually train data\n",
    "sess.run(tf.initialize_all_variables())\n",
    "\n",
    "for i in range(10000):\n",
    "    batch = datasets.train.next_batch(50)\n",
    "    if i % 1000 == 0:\n",
    "        train_accuracy = accuracy.eval(\n",
    "            feed_dict={x: batch[0], y_: batch[1]}\n",
    "        )\n",
    "        print(\"Step %d, training accuracy %g\" % (i, train_accuracy))\n",
    "    train_step.run(feed_dict={x: batch[0], y_: batch[1]})\n",
    "\n",
    "print(\"Final test accuracy %g\"%accuracy.eval(\n",
    "    feed_dict={x: datasets.val1._patients, y_: datasets.val1._labels}\n",
    "))"
   ]
  },
  {
   "cell_type": "code",
   "execution_count": null,
   "metadata": {
    "collapsed": true
   },
   "outputs": [],
   "source": []
  }
 ],
 "metadata": {
  "kernelspec": {
   "display_name": "Python 2",
   "language": "python",
   "name": "python2"
  },
  "language_info": {
   "codemirror_mode": {
    "name": "ipython",
    "version": 2
   },
   "file_extension": ".py",
   "mimetype": "text/x-python",
   "name": "python",
   "nbconvert_exporter": "python",
   "pygments_lexer": "ipython2",
   "version": "2.7.12"
  }
 },
 "nbformat": 4,
 "nbformat_minor": 0
}

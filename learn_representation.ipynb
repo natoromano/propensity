{
 "cells": [
  {
   "cell_type": "markdown",
   "metadata": {
    "collapsed": true
   },
   "source": [
    "# Learn representation\n",
    "\n",
    "Trains a simple fully-connected neural network on electronic \n",
    "health records using treatment assignment as target, and\n",
    "extracts activations from the last layer. This notebook also does some hyperparameter tuning on the\n",
    "network."
   ]
  },
  {
   "cell_type": "code",
   "execution_count": 1,
   "metadata": {
    "collapsed": false
   },
   "outputs": [],
   "source": [
    "%matplotlib inline\n",
    "import tensorflow as tf\n",
    "import numpy as np\n",
    "import matplotlib.pyplot as plt\n",
    "\n",
    "from utils.data import load_data\n",
    "from utils.nn import (\n",
    "    add_fully_connected, \n",
    "    precision_recall,\n",
    "    add_criteria,\n",
    "    extract_activations\n",
    ")"
   ]
  },
  {
   "cell_type": "code",
   "execution_count": 2,
   "metadata": {
    "collapsed": false
   },
   "outputs": [],
   "source": [
    "# Load data\n",
    "datasets = load_data()\n",
    "dim = datasets.dimension"
   ]
  },
  {
   "cell_type": "code",
   "execution_count": 3,
   "metadata": {
    "collapsed": false
   },
   "outputs": [],
   "source": [
    "# Instantiate session and create base variables\n",
    "sess = tf.InteractiveSession()\n",
    "x = tf.placeholder(tf.float32, shape=[None, dim])\n",
    "y_ = tf.placeholder(tf.float32, shape=[None, 2])"
   ]
  },
  {
   "cell_type": "code",
   "execution_count": 27,
   "metadata": {
    "collapsed": false
   },
   "outputs": [],
   "source": [
    "# Hidden layers dimensions\n",
    "hidden1 = 50\n",
    "hidden2 = 5\n",
    "\n",
    "# Actual network creation\n",
    "h1 = add_fully_connected(x, dim, hidden1, relu=False)\n",
    "h2 = add_fully_connected(h1, hidden1, hidden2, relu=False)\n",
    "y_scores = add_fully_connected(h2, hidden2, 2, relu=False)\n",
    "\n",
    "cross_entropy, train_step, correct_prediction, accuracy = add_criteria(y_, y_scores, 2.3e-6)"
   ]
  },
  {
   "cell_type": "code",
   "execution_count": null,
   "metadata": {
    "collapsed": false
   },
   "outputs": [
    {
     "name": "stdout",
     "output_type": "stream",
     "text": [
      "Step 0: 0.499538\n",
      "Step 1000: 0.557863\n",
      "Step 2000: 0.598943\n",
      "Step 3000: 0.627602\n",
      "Step 4000: 0.647029\n"
     ]
    }
   ],
   "source": [
    "# Keep history to plot accuracies\n",
    "train_acc = []\n",
    "val_acc = []\n",
    "train_losses = []\n",
    "val_losses = []\n",
    "\n",
    "# Actually train data\n",
    "sess.run(tf.initialize_all_variables())\n",
    "\n",
    "for i in range(100000):\n",
    "    batch = datasets.train.next_batch(512)\n",
    "    if i % 1000 == 0:\n",
    "        train_accuracy = accuracy.eval(\n",
    "            feed_dict={x: batch[0], y_: batch[1]}\n",
    "        )\n",
    "        val_accuracy = accuracy.eval(\n",
    "            feed_dict={x: datasets.val1._patients, \n",
    "                       y_: datasets.val1._labels}\n",
    "        )\n",
    "        train_loss = cross_entropy.eval(\n",
    "            feed_dict={x: batch[0], y_: batch[1]}            \n",
    "        )\n",
    "        val_loss = cross_entropy.eval(\n",
    "            feed_dict={x: datasets.val1._patients, \n",
    "                       y_: datasets.val1._labels}            \n",
    "        )\n",
    "        train_acc.append(train_accuracy)\n",
    "        val_acc.append(val_accuracy)\n",
    "        train_losses.append(train_loss)\n",
    "        val_losses.append(val_loss)\n",
    "        print \"Step %d:\" % i, val_accuracy\n",
    "    train_step.run(feed_dict={x: batch[0], y_: batch[1]})\n",
    "\n",
    "print(\"Validation accuracy %g\" % accuracy.eval(\n",
    "    feed_dict={x: datasets.val1._patients, y_: datasets.val1._labels}\n",
    "))\n",
    "\n",
    "# Plot learning curves\n",
    "plt.figure(1)\n",
    "plt.plot(train_acc)\n",
    "plt.plot(val_acc)\n",
    "plt.xlabel(\"Epoch\")\n",
    "plt.ylabel(\"Accuracy\")\n",
    "\n",
    "plt.figure(2)\n",
    "plt.plot(train_losses)\n",
    "plt.plot(val_losses)\n",
    "plt.xlabel(\"Epoch\")\n",
    "plt.ylabel(\"Loss\")\n",
    "\n",
    "# print \"Precision, Recall:\", precision_recall(x, y_, y_scores, datasets.val1)"
   ]
  },
  {
   "cell_type": "code",
   "execution_count": 22,
   "metadata": {
    "collapsed": false
   },
   "outputs": [],
   "source": [
    "# Extract activations\n",
    "extract_activations(x, y_, y_scores, datasets.val2, \"val2\")\n",
    "extract_activations(x, y_, y_scores, datasets.test, \"test\")"
   ]
  },
  {
   "cell_type": "code",
   "execution_count": null,
   "metadata": {
    "collapsed": true
   },
   "outputs": [],
   "source": []
  }
 ],
 "metadata": {
  "kernelspec": {
   "display_name": "Python 2",
   "language": "python",
   "name": "python2"
  },
  "language_info": {
   "codemirror_mode": {
    "name": "ipython",
    "version": 2
   },
   "file_extension": ".py",
   "mimetype": "text/x-python",
   "name": "python",
   "nbconvert_exporter": "python",
   "pygments_lexer": "ipython2",
   "version": "2.7.12"
  }
 },
 "nbformat": 4,
 "nbformat_minor": 0
}
